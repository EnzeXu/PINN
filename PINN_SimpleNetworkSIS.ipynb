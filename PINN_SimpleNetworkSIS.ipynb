{
 "cells": [
  {
   "cell_type": "code",
   "execution_count": 25,
   "outputs": [
    {
     "output_type": "stream",
     "name": "stdout",
     "text": [
      "Drive already mounted at /content/drive; to attempt to forcibly remount, call drive.mount(\"/content/drive\", force_remount=True).\n"
     ]
    }
   ],
   "source": [
    "# Enze Xu\n",
    "# Github: https://github.com/EnzeXu/PINN\n",
    "# git clone https://github.com/EnzeXu/PINN.git\n",
    "\n",
    "import torch\n",
    "import time\n",
    "import random\n",
    "import argparse\n",
    "import math\n",
    "import os\n",
    "import numpy as np\n",
    "import matplotlib.pyplot as plt\n",
    "from torch import nn, optim\n",
    "from tqdm import tqdm\n",
    "from collections import OrderedDict\n",
    "from torchsummary import summary\n",
    "from torch.backends import cudnn\n",
    "\n",
    "from google.colab import drive\n",
    "drive.mount(\"/content/drive\")"
   ],
   "metadata": {
    "pycharm": {
     "name": "#%%\n"
    },
    "colab": {
     "base_uri": "https://localhost:8080/"
    },
    "id": "B3Ti9-7_CWm2",
    "executionInfo": {
     "status": "ok",
     "timestamp": 1648330981540,
     "user_tz": 240,
     "elapsed": 1109,
     "user": {
      "displayName": "Enze Xu",
      "photoUrl": "https://lh3.googleusercontent.com/a/default-user=s64",
      "userId": "00384414745694091798"
     }
    },
    "outputId": "d45d27ef-08ab-472c-c12a-9ea3703e2c20"
   }
  },
  {
   "cell_type": "code",
   "execution_count": 26,
   "outputs": [],
   "source": [
    "class ConfigSIS:\n",
    "    T = 100.0\n",
    "    T_unit = 0.01\n",
    "    N = int(T / T_unit)\n",
    "    S_start = 99.0\n",
    "    I_start = 1.0\n",
    "    R_start = 0.0\n",
    "    SIR_sum = 1000.0\n",
    "    beta = 0.01\n",
    "    gamma = 0.05\n",
    "    ub = T\n",
    "    lb = 0.0\n",
    "\n",
    "class SimpleNetworkSIS(nn.Module):\n",
    "    def __init__(self, config):\n",
    "        super(SimpleNetworkSIS, self).__init__()\n",
    "        self.setup_seed(0)\n",
    "        self.config = config\n",
    "        self.device = torch.device(\"cuda\" if torch.cuda.is_available() else \"cpu\")\n",
    "        self.x, self.y0, self.t0 = None, None, None\n",
    "        self.generate_x()\n",
    "        # self.optimizer = optim.LBFGS(self.parameters(), lr=0.001, max_iter=5000, max_eval=None, tolerance_grad=1e-05, tolerance_change=1e-09, history_size=100, line_search_fn=None)\n",
    "        self.initial_start()\n",
    "        self.model_name = \"SimpleNetworkSIS\"\n",
    "        self.sig = nn.Tanh()\n",
    "        self.fc1 = nn.Sequential(OrderedDict({\n",
    "            'lin1': nn.Linear(1, 100),\n",
    "            'sig1': self.sig,\n",
    "            'lin2': nn.Linear(100, 100),\n",
    "            'sig2': self.sig,\n",
    "            'lin3': nn.Linear(100, 100),\n",
    "            'sig3': self.sig,\n",
    "            'lin4': nn.Linear(100, 100),\n",
    "            'sig4': self.sig,\n",
    "            'lin5': nn.Linear(100, 1),\n",
    "            # 'sig5': self.sig,\n",
    "        }))\n",
    "\n",
    "        self.fc2 = nn.Sequential(OrderedDict({\n",
    "            'lin1': nn.Linear(1, 100),\n",
    "            'sig1': self.sig,\n",
    "            'lin2': nn.Linear(100, 100),\n",
    "            'sig2': self.sig,\n",
    "            'lin3': nn.Linear(100, 100),\n",
    "            'sig3': self.sig,\n",
    "            'lin4': nn.Linear(100, 100),\n",
    "            'sig4': self.sig,\n",
    "            'lin5': nn.Linear(100, 1),\n",
    "            # 'sig5': self.sig,\n",
    "        }))\n",
    "\n",
    "        self.fc3 = nn.Sequential(OrderedDict({\n",
    "            'lin1': nn.Linear(1, 100),\n",
    "            'sig1': self.sig,\n",
    "            'lin2': nn.Linear(100, 100),\n",
    "            'sig2': self.sig,\n",
    "            'lin3': nn.Linear(100, 100),\n",
    "            'sig3': self.sig,\n",
    "            'lin4': nn.Linear(100, 100),\n",
    "            'sig4': self.sig,\n",
    "            'lin5': nn.Linear(100, 1),\n",
    "            # 'sig5': self.sig,\n",
    "        }))\n",
    "\n",
    "    def forward(self, inputs):\n",
    "        s_old, i_old, r_old = torch.chunk(inputs, 3, 1)\n",
    "        s_new = self.fc1(s_old)\n",
    "        i_new = self.fc2(i_old)\n",
    "        r_new = self.fc2(r_old)\n",
    "        outputs = torch.cat((s_new, i_new, r_new), 1)\n",
    "        return outputs\n",
    "\n",
    "    def generate_x(self):\n",
    "        # lb_row = np.repeat(self.config.lb, 2).reshape([1, -1])\n",
    "        # ub_row = np.repeat(self.config.ub, 2).reshape([1, -1])\n",
    "        # x = lb_row + (ub_row - lb_row) * lhs(1, self.config.N)\n",
    "        # x = sorted(x, key=lambda xx: xx[0])\n",
    "        x = [[i*self.config.T_unit, i*self.config.T_unit, i*self.config.T_unit] for i in range(self.config.N)]  # toy\n",
    "        x = np.asarray(x)\n",
    "        x = self.encode_t(x)\n",
    "        self.x = torch.Tensor(x).float().to(self.device)\n",
    "\n",
    "    def initial_start(self):\n",
    "        self.t0 = torch.Tensor(np.asarray([-1.0, -1.0, -1.0]).reshape([1, -1])).float().to(self.device)\n",
    "        self.y0 = torch.Tensor(np.asarray([self.config.S_start, self.config.I_start, self.config.R_start]).reshape([1, -1])).float().to(self.device)\n",
    "        self.tend = torch.Tensor(np.asarray([1.0, 1.0, 1.0]).reshape([1, -1])).float().to(self.device)\n",
    "\n",
    "    def loss(self):\n",
    "        y = self.forward(self.x)\n",
    "        # print(\"y.shape:\", y[:, 0:1].shape)\n",
    "        # print(y[:, 0:1])\n",
    "        # print(\"self.x.shape:\", self.x[:, 0:1].shape)\n",
    "        # y_t = torch.gradient(y, spacing=(self.x,))[0]  # y_t = tf.gradients(y, t)[0]\n",
    "        s = y[:, 0:1]\n",
    "        i = y[:, 1:2]\n",
    "        r = y[:, 2:3]\n",
    "\n",
    "        s_t = torch.gradient(y[:, 0:1].reshape([self.config.N]), spacing=(self.decode_t(self.x)[:, 0:1].reshape([self.config.N]),))[0]\n",
    "        i_t = torch.gradient(y[:, 1:2].reshape([self.config.N]), spacing=(self.decode_t(self.x)[:, 1:2].reshape([self.config.N]),))[0]\n",
    "        r_t = torch.gradient(y[:, 2:3].reshape([self.config.N]), spacing=(self.decode_t(self.x)[:, 1:2].reshape([self.config.N]),))[0]\n",
    "\n",
    "        s_t = s_t.reshape([self.config.N, 1])\n",
    "        i_t = i_t.reshape([self.config.N, 1])\n",
    "        r_t = r_t.reshape([self.config.N, 1])\n",
    "        # print(y_t,u_t)\n",
    "        f_s = s_t - (- self.config.beta * s * i)\n",
    "        f_i = i_t - (self.config.beta * s * i - self.config.gamma * i)\n",
    "        f_r = r_t - (self.config.gamma * i)\n",
    "        # f_u = u_t - (self.config.alpha - self.config.gamma * v) * u\n",
    "        # f_v = v_t - (-self.config.beta + self.config.e * self.config.gamma * u) * v\n",
    "        # f_u = u_t - torch.cos(self.decode_t(self.x)[:, 0:1])  # toy\n",
    "        # f_v = v_t - torch.cos(self.decode_t(self.x)[:, 1:2])  # toy\n",
    "        f_y = torch.cat((f_s, f_i, f_r), 1)\n",
    "        y0_pred = self.forward(self.t0)\n",
    "        yend_pred = self.forward(self.tend)\n",
    "        # print_flag = False  # True # False\n",
    "        # if print_flag:\n",
    "        #     print(\"u=\", u.shape, u, \"v=\", v.shape, v, \"t=\", (self.decode_t(self.x)[:, 0:1]).shape, self.decode_t(self.x)[:, 0:1])\n",
    "        #     print(\"u_t=\", u_t, \"shape=\", u_t.shape, \"u_t_minus=\", (self.config.alpha - self.config.gamma * v) * u,\n",
    "        #           \"shape=\", ((self.config.alpha - self.config.gamma * v) * u).shape)\n",
    "        #     print(\"v_t=\", v_t, \"shape=\", v_t.shape, \"v_t_minus=\",\n",
    "        #           (-self.config.beta + self.config.e * self.config.gamma * u) * v, \"shape=\",\n",
    "        #           ((-self.config.beta + self.config.e * self.config.gamma * u) * v).shape)\n",
    "        #     print(\"self.t0 =\", self.t0, \"self.t0=\", self.t0, \"self.y0 =\", self.y0,\n",
    "        #           \"y0_pred =\", y0_pred, \"self.y0 - y0_pred =\", self.y0 - y0_pred)\n",
    "\n",
    "        # loss_2_weights = [[i, i] for i in range(20000)]  # toy\n",
    "        # loss_2_weights = np.asarray(loss_2_weights)\n",
    "        # loss_2_weights = torch.Tensor(loss_2_weights).float().to(self.device)\n",
    "\n",
    "        loss_1 = torch.mean(torch.square(self.y0 - y0_pred))\n",
    "        loss_2 = torch.mean(torch.square(f_y))  # + torch.var(torch.square(f_y))\n",
    "        # loss_3 = torch.mean(torch.square(1/(u*u+v*v)))\n",
    "        # loss_3 = torch.mean(torch.square(1.0 / u - (self.config.e * self.config.gamma / self.config.beta))) + \\\n",
    "        #     torch.mean(torch.square(1.0 / v - (self.config.gamma / self.config.alpha)))\n",
    "        # loss_3 = 10 * (torch.abs(torch.sum(y0_pred) - self.config.SIR_sum) + torch.abs(torch.sum(yend_pred) - self.config.SIR_sum))\n",
    "        loss = loss_1 + loss_2\n",
    "        # if loss < 2.0:\n",
    "        #     f_y_square_pure = torch.square(f_y).cpu().detach().numpy()\n",
    "        #     for i in range(20000):\n",
    "        #         print(i, f_y_square_pure[i])\n",
    "\n",
    "        return loss, [loss_1, loss_2]\n",
    "        # return torch.mean(torch.square(y_hat - y))\n",
    "        # return F.mse_loss(torch.cat((u_hat, v_hat), 1), torch.cat((u, v), 1))\n",
    "        # return torch.abs(u_hat - u) + torch.abs(v_hat - v)  # F.mse_loss(x_hat, x) + beta * self.kl_div(rho)\n",
    "\n",
    "\n",
    "    def encode_t(self, num):\n",
    "        return (num - self.config.lb) / (self.config.ub - self.config.lb) * 2.0 - 1.0\n",
    "\n",
    "    def decode_t(self, num):\n",
    "        return self.config.lb + (num + 1.0) / 2.0 * (self.config.ub - self.config.lb)\n",
    "\n",
    "    @staticmethod\n",
    "    def setup_seed(seed):\n",
    "        torch.manual_seed(seed)\n",
    "        torch.cuda.manual_seed_all(seed)\n",
    "        np.random.seed(seed)\n",
    "        random.seed(seed)\n",
    "        cudnn.deterministic = True"
   ],
   "metadata": {
    "pycharm": {
     "name": "#%%\n"
    },
    "id": "cYCehNpNCWm2",
    "executionInfo": {
     "status": "ok",
     "timestamp": 1648330982091,
     "user_tz": 240,
     "elapsed": 375,
     "user": {
      "displayName": "Enze Xu",
      "photoUrl": "https://lh3.googleusercontent.com/a/default-user=s64",
      "userId": "00384414745694091798"
     }
    }
   }
  },
  {
   "cell_type": "code",
   "execution_count": 29,
   "outputs": [],
   "source": [
    "def get_now_string():\n",
    "    return time.strftime(\"%Y-%m-%d-%H-%M-%S\", time.localtime(time.time()))\n",
    "\n",
    "def train_sis(model, args, config, now_string):\n",
    "    device = torch.device(\"cuda\" if torch.cuda.is_available() else \"cpu\")\n",
    "    # model = model_framework(config).to(device)\n",
    "    model.train()\n",
    "    model_save_path_last = f\"{args.main_path}/train/{model.model_name}_{args.epoch}_{args.epoch_step}_{args.lr}_{config.beta}_{config.gamma}_{now_string}_last.pt\"\n",
    "    model_save_path_best = f\"{args.main_path}/train/{model.model_name}_{args.epoch}_{args.epoch_step}_{args.lr}_{config.beta}_{config.gamma}_{now_string}_best.pt\"\n",
    "    print(\"using \" + str(device))\n",
    "    print(\"epoch = {}\".format(args.epoch))\n",
    "    print(\"epoch_step = {}\".format(args.epoch_step))\n",
    "    print(\"model_name = {}\".format(model.model_name))\n",
    "    print(\"now_string = {}\".format(now_string))\n",
    "    print(\"model_save_path_last = {}\".format(model_save_path_last))\n",
    "    print(\"model_save_path_best = {}\".format(model_save_path_best))\n",
    "    optimizer = optim.Adam(model.parameters(), lr=args.lr)\n",
    "    # optimizer = optim.LBFGS(model.parameters(), lr=args.lr, max_iter=5000, max_eval=None, tolerance_grad=1e-05, tolerance_change=1e-09, history_size=100,\n",
    "    #       line_search_fn=None)\n",
    "    epoch_step = args.epoch_step\n",
    "    start_time = time.time()\n",
    "    for epoch in range(1, args.epoch + 1):\n",
    "        optimizer.zero_grad()\n",
    "        inputs = model.x\n",
    "        outputs = model(inputs)\n",
    "        # u_hat, v_hat = torch.chunk(outputs, 2, 1)\n",
    "        loss, loss_list = model.loss()\n",
    "        loss_1, loss_2, = loss_list[0], loss_list[1]\n",
    "        loss.backward()\n",
    "        optimizer.step()\n",
    "        best_loss = 999999\n",
    "        if epoch % epoch_step == 0:\n",
    "            print(\"Epoch [{0:05d}/{1:05d}] Loss:{2:.6f} Loss_1:{3:.6f} Loss_2:{4:.6f} Time:{5:.6f}s\".format(epoch, args.epoch, loss.item(), loss_1.item(), loss_2.item(), time.time() - start_time))\n",
    "            start_time = time.time()\n",
    "            torch.save(\n",
    "                {\n",
    "                    'epoch': args.epoch,\n",
    "                    'model_state_dict': model.state_dict(),\n",
    "                    # 'optimizer_state_dict': optimizer.state_dict(),\n",
    "                    'loss': loss.item()\n",
    "                }, model_save_path_last)\n",
    "            # print(inputs.shape)\n",
    "            if loss.item() < best_loss:\n",
    "                torch.save(\n",
    "                    {\n",
    "                        'epoch': args.epoch,\n",
    "                        'model_state_dict': model.state_dict(),\n",
    "                        # 'optimizer_state_dict': optimizer.state_dict(),\n",
    "                        'loss': loss.item()\n",
    "                    }, model_save_path_best)\n",
    "        if epoch % args.save_step == 0:\n",
    "            test_sis(model, args, config, now_string, True)\n",
    "\n",
    "def test_sis(model, args, config, now_string, show_flag=True):\n",
    "    device = torch.device(\"cuda\" if torch.cuda.is_available() else \"cpu\")\n",
    "    # model = model_framework(config).to(device)\n",
    "    model_save_path = f\"{args.main_path}/train/{model.model_name}_{args.epoch}_{args.epoch_step}_{args.lr}_{config.beta}_{config.gamma}_{now_string}_last.pt\"\n",
    "    model.load_state_dict(torch.load(model_save_path, map_location=device)[\"model_state_dict\"])\n",
    "    model.eval()\n",
    "    print(\"Testing & drawing...\")\n",
    "    t = model.x\n",
    "    y = model(t)\n",
    "    y0_pred = model(model.t0)\n",
    "    # print(\"t=\", t)\n",
    "    # print(\"t0=\", model.t0)\n",
    "    # print(\"y=\", y)\n",
    "    # print(\"y0_pred=\", y0_pred)\n",
    "    s, i, r = torch.chunk(y, 3, 1)\n",
    "    # print(\"u=\", u)\n",
    "    # print(\"v=\", v)\n",
    "    s = [item[0] for item in s.cpu().detach().numpy()]\n",
    "    i = [item[0] for item in i.cpu().detach().numpy()]\n",
    "    r = [item[0] for item in r.cpu().detach().numpy()]\n",
    "    x = [item[0] for item in model.decode_t(t).cpu().detach().numpy()]\n",
    "    pairs = [[ss, ii, rr, xx] for ss, ii, rr, xx in zip(s, i, r, x)]\n",
    "    pairs.sort(key=lambda xx: xx[-1])\n",
    "    s = [item[0] for item in pairs]\n",
    "    i = [item[1] for item in pairs]\n",
    "    r = [item[2] for item in pairs]\n",
    "    x = [item[3] for item in pairs]\n",
    "    print(\"s=\", s[:10], \"...\", s[-10:])\n",
    "    print(\"i=\", i[:10], \"...\", i[-10:])\n",
    "    print(\"r=\", r[:10], \"...\", r[-10:])\n",
    "    print(\"x=\", x[:10], \"...\", x[-10:])\n",
    "    plt.plot(x, s, marker='.', markersize=0.2, linewidth=0.1, c=\"b\")\n",
    "    plt.plot(x, i, marker='.', markersize=0.2, linewidth=0.1, c=\"r\")\n",
    "    plt.plot(x, r, marker='.', markersize=0.2, linewidth=0.1, c=\"g\")\n",
    "    figure_save_path = f\"{args.main_path}/figure/{model.model_name}_{args.epoch}_{args.epoch_step}_{args.lr}_{config.beta}_{config.gamma}_{now_string}_{int(time.time())}.png\"\n",
    "    plt.savefig(figure_save_path, dpi=300)\n",
    "    if show_flag:\n",
    "        plt.show()\n",
    "    plt.clf()\n",
    "    print(\"Saved as {}\".format(figure_save_path))\n",
    "\n",
    "class Args:\n",
    "  epoch = 2000\n",
    "  epoch_step = 100\n",
    "  lr = 0.001\n",
    "  main_path = \".\"\n",
    "  save_step = 500\n",
    "\n",
    "def run_sis(main_path=None):\n",
    "    # parser = argparse.ArgumentParser()\n",
    "    # parser.add_argument(\"--epoch\", type=int, default=1000, help=\"epoch\")\n",
    "    # parser.add_argument(\"--epoch_step\", type=int, default=10, help=\"epoch_step\")\n",
    "    # parser.add_argument('--lr', type=float, default=0.01, help='learning rate, default=0.001')\n",
    "    # parser.add_argument(\"--main_path\", default=\".\", help=\"main_path\")\n",
    "    # parser.add_argument(\"--save_step\", type=int, default=100, help=\"save_step\")\n",
    "    # args = parser.parse_args()\n",
    "    args = Args\n",
    "    if main_path:\n",
    "        args.main_path = main_path\n",
    "    if not os.path.exists(\"{}/train\".format(args.main_path)):\n",
    "        os.makedirs(\"{}/train\".format(args.main_path))\n",
    "    if not os.path.exists(\"{}/figure\".format(args.main_path)):\n",
    "        os.makedirs(\"{}/figure\".format(args.main_path))\n",
    "    now_string = get_now_string()\n",
    "    device = torch.device(\"cuda\" if torch.cuda.is_available() else \"cpu\")\n",
    "    config = ConfigSIS\n",
    "    model = SimpleNetworkSIS(config).to(device)\n",
    "    train_sis(model, args, config, now_string)\n",
    "    model = SimpleNetworkSIS(config).to(device)\n",
    "    test_sis(model, args, config, now_string)"
   ],
   "metadata": {
    "pycharm": {
     "name": "#%%\n"
    },
    "id": "Y6HU0RmnCWm5",
    "executionInfo": {
     "status": "ok",
     "timestamp": 1648331305455,
     "user_tz": 240,
     "elapsed": 186,
     "user": {
      "displayName": "Enze Xu",
      "photoUrl": "https://lh3.googleusercontent.com/a/default-user=s64",
      "userId": "00384414745694091798"
     }
    }
   }
  },
  {
   "cell_type": "code",
   "execution_count": 30,
   "outputs": [
    {
     "output_type": "stream",
     "name": "stdout",
     "text": [
      "using cuda\n",
      "epoch = 2000\n",
      "epoch_step = 100\n",
      "model_name = SimpleNetworkSIS\n",
      "now_string = 2022-03-26-21-48-26\n",
      "model_save_path_last = /content/drive/My Drive/Workspace/PINN/train/SimpleNetworkSIS_2000_100_0.001_0.01_0.05_2022-03-26-21-48-26_last.pt\n",
      "model_save_path_best = /content/drive/My Drive/Workspace/PINN/train/SimpleNetworkSIS_2000_100_0.001_0.01_0.05_2022-03-26-21-48-26_best.pt\n",
      "Epoch [00100/02000] Loss:2307.187500 Loss_1:2307.181396 Loss_2:0.006146 Time:0.882669s\n",
      "Epoch [00200/02000] Loss:1791.797729 Loss_1:1791.794800 Loss_2:0.002944 Time:0.878025s\n",
      "Epoch [00300/02000] Loss:1377.424683 Loss_1:1377.422729 Loss_2:0.001963 Time:0.864983s\n",
      "Epoch [00400/02000] Loss:1043.416504 Loss_1:1043.414551 Loss_2:0.001913 Time:0.869811s\n",
      "Epoch [00500/02000] Loss:776.999207 Loss_1:776.997437 Loss_2:0.001748 Time:0.873831s\n",
      "Testing & drawing...\n",
      "s= [50.79822, 50.79822, 50.79822, 50.79822, 50.79822, 50.79822, 50.79822, 50.79822, 50.79822, 50.79822] ... [50.33517, 50.33404, 50.3329, 50.331764, 50.330616, 50.32947, 50.32832, 50.327168, 50.326008, 50.324856]\n",
      "i= [0.5283481, 0.5277548, 0.5271616, 0.52656853, 0.5259756, 0.5253829, 0.52479017, 0.5241978, 0.52360547, 0.5230135] ... [0.024463601, 0.024452731, 0.024441868, 0.02443096, 0.02442009, 0.02440925, 0.02439835, 0.024387434, 0.024376564, 0.024365678]\n",
      "r= [0.5283481, 0.5277548, 0.5271616, 0.52656853, 0.5259756, 0.5253829, 0.52479017, 0.5241978, 0.52360547, 0.5230135] ... [0.024463601, 0.024452731, 0.024441868, 0.02443096, 0.02442009, 0.02440925, 0.02439835, 0.024387434, 0.024376564, 0.024365678]\n",
      "x= [0.0, 0.009998679, 0.020000339, 0.029999018, 0.040000677, 0.049999356, 0.060001016, 0.069999695, 0.080001354, 0.09000003] ... [99.9, 99.909996, 99.92, 99.93, 99.94, 99.950005, 99.96, 99.97, 99.979996, 99.99]\n"
     ]
    },
    {
     "output_type": "display_data",
     "data": {
      "text/plain": [
       "<Figure size 432x288 with 1 Axes>"
      ],
      "image/png": "[encoded data removed]"
     },
     "metadata": {
      "needs_background": "light"
     }
    },
    {
     "output_type": "stream",
     "name": "stdout",
     "text": [
      "Saved as /content/drive/My Drive/Workspace/PINN/figure/SimpleNetworkSIS_2000_100_0.001_0.01_0.05_2022-03-26-21-48-26_1648331311.png\n",
      "Epoch [00600/02000] Loss:567.673523 Loss_1:567.671448 Loss_2:0.002062 Time:1.352929s\n",
      "Epoch [00700/02000] Loss:406.141602 Loss_1:406.139526 Loss_2:0.002090 Time:0.867618s\n",
      "Epoch [00800/02000] Loss:284.019318 Loss_1:284.017120 Loss_2:0.002182 Time:0.865815s\n",
      "Epoch [00900/02000] Loss:193.775040 Loss_1:193.772690 Loss_2:0.002355 Time:0.895014s\n",
      "Epoch [01000/02000] Loss:128.742340 Loss_1:128.740036 Loss_2:0.002310 Time:0.912048s\n",
      "Testing & drawing...\n",
      "s= [79.401764, 79.401764, 79.401764, 79.401764, 79.401764, 79.401764, 79.401764, 79.401764, 79.401764, 79.401764] ... [79.179634, 79.17906, 79.178505, 79.177925, 79.17736, 79.17679, 79.17621, 79.17565, 79.17506, 79.174484]\n",
      "i= [0.49248332, 0.49104512, 0.4896075, 0.4881717, 0.4867366, 0.48530316, 0.48387045, 0.48243952, 0.4810093, 0.47958088] ... [0.009981163, 0.009983815, 0.009986311, 0.009988882, 0.009991445, 0.009994067, 0.009996556, 0.009999163, 0.010001689, 0.01000426]\n",
      "r= [0.49248332, 0.49104512, 0.4896075, 0.4881717, 0.4867366, 0.48530316, 0.48387045, 0.48243952, 0.4810093, 0.47958088] ... [0.009981163, 0.009983815, 0.009986311, 0.009988882, 0.009991445, 0.009994067, 0.009996556, 0.009999163, 0.010001689, 0.01000426]\n",
      "x= [0.0, 0.009998679, 0.020000339, 0.029999018, 0.040000677, 0.049999356, 0.060001016, 0.069999695, 0.080001354, 0.09000003] ... [99.9, 99.909996, 99.92, 99.93, 99.94, 99.950005, 99.96, 99.97, 99.979996, 99.99]\n"
     ]
    },
    {
     "output_type": "display_data",
     "data": {
      "text/plain": [
       "<Figure size 432x288 with 1 Axes>"
      ],
      "image/png": "[encoded data removed]"
     },
     "metadata": {
      "needs_background": "light"
     }
    },
    {
     "output_type": "stream",
     "name": "stdout",
     "text": [
      "Saved as /content/drive/My Drive/Workspace/PINN/figure/SimpleNetworkSIS_2000_100_0.001_0.01_0.05_2022-03-26-21-48-26_1648331316.png\n",
      "Epoch [01100/02000] Loss:83.144188 Loss_1:83.141884 Loss_2:0.002302 Time:1.359775s\n",
      "Epoch [01200/02000] Loss:52.105862 Loss_1:52.103470 Loss_2:0.002391 Time:0.919309s\n",
      "Epoch [01300/02000] Loss:31.639448 Loss_1:31.637074 Loss_2:0.002374 Time:0.887440s\n",
      "Epoch [01400/02000] Loss:18.593847 Loss_1:18.591480 Loss_2:0.002366 Time:0.862136s\n",
      "Epoch [01500/02000] Loss:10.572172 Loss_1:10.569731 Loss_2:0.002442 Time:0.869433s\n",
      "Testing & drawing...\n",
      "s= [93.42997, 93.42997, 93.42997, 93.42997, 93.42997, 93.42997, 93.42997, 93.42997, 93.42997, 93.42997] ... [93.26569, 93.26528, 93.264854, 93.26442, 93.26401, 93.26358, 93.26315, 93.26273, 93.2623, 93.26188]\n",
      "i= [0.49183685, 0.48958886, 0.4873426, 0.4850996, 0.48285842, 0.48062056, 0.47838485, 0.47615248, 0.4739223, 0.47169566] ... [0.0072293803, 0.007230319, 0.007231362, 0.007232301, 0.007233277, 0.0072342083, 0.0072351918, 0.007236168, 0.0072371215, 0.0072380826]\n",
      "r= [0.49183685, 0.48958886, 0.4873426, 0.4850996, 0.48285842, 0.48062056, 0.47838485, 0.47615248, 0.4739223, 0.47169566] ... [0.0072293803, 0.007230319, 0.007231362, 0.007232301, 0.007233277, 0.0072342083, 0.0072351918, 0.007236168, 0.0072371215, 0.0072380826]\n",
      "x= [0.0, 0.009998679, 0.020000339, 0.029999018, 0.040000677, 0.049999356, 0.060001016, 0.069999695, 0.080001354, 0.09000003] ... [99.9, 99.909996, 99.92, 99.93, 99.94, 99.950005, 99.96, 99.97, 99.979996, 99.99]\n"
     ]
    },
    {
     "output_type": "display_data",
     "data": {
      "text/plain": [
       "<Figure size 432x288 with 1 Axes>"
      ],
      "image/png": "[encoded data removed]"
     },
     "metadata": {
      "needs_background": "light"
     }
    },
    {
     "output_type": "stream",
     "name": "stdout",
     "text": [
      "Saved as /content/drive/My Drive/Workspace/PINN/figure/SimpleNetworkSIS_2000_100_0.001_0.01_0.05_2022-03-26-21-48-26_1648331321.png\n",
      "Epoch [01600/02000] Loss:5.823030 Loss_1:5.820615 Loss_2:0.002416 Time:1.357243s\n",
      "Epoch [01700/02000] Loss:3.121256 Loss_1:3.118848 Loss_2:0.002408 Time:0.875767s\n",
      "Epoch [01800/02000] Loss:1.647112 Loss_1:1.644656 Loss_2:0.002455 Time:0.894207s\n",
      "Epoch [01900/02000] Loss:0.877160 Loss_1:0.874738 Loss_2:0.002423 Time:0.904018s\n",
      "Epoch [02000/02000] Loss:0.493146 Loss_1:0.490564 Loss_2:0.002583 Time:0.872909s\n",
      "Testing & drawing...\n",
      "s= [98.01829, 98.01829, 98.01829, 98.01829, 98.01829, 98.01829, 98.01829, 98.01829, 98.01829, 98.01829] ... [97.884766, 97.884445, 97.8841, 97.88377, 97.88343, 97.883095, 97.88275, 97.882416, 97.88207, 97.88174]\n",
      "i= [0.4699705, 0.46687302, 0.46378294, 0.46070197, 0.45762846, 0.45456436, 0.4515082, 0.4484615, 0.44542292, 0.44239435] ... [-0.0032747164, -0.0032751635, -0.0032755956, -0.0032761171, -0.0032764897, -0.0032769218, -0.0032774433, -0.0032779798, -0.0032784566, -0.0032788739]\n",
      "r= [0.4699705, 0.46687302, 0.46378294, 0.46070197, 0.45762846, 0.45456436, 0.4515082, 0.4484615, 0.44542292, 0.44239435] ... [-0.0032747164, -0.0032751635, -0.0032755956, -0.0032761171, -0.0032764897, -0.0032769218, -0.0032774433, -0.0032779798, -0.0032784566, -0.0032788739]\n",
      "x= [0.0, 0.009998679, 0.020000339, 0.029999018, 0.040000677, 0.049999356, 0.060001016, 0.069999695, 0.080001354, 0.09000003] ... [99.9, 99.909996, 99.92, 99.93, 99.94, 99.950005, 99.96, 99.97, 99.979996, 99.99]\n"
     ]
    },
    {
     "output_type": "display_data",
     "data": {
      "text/plain": [
       "<Figure size 432x288 with 1 Axes>"
      ],
      "image/png": "[encoded data removed]"
     },
     "metadata": {
      "needs_background": "light"
     }
    },
    {
     "output_type": "stream",
     "name": "stdout",
     "text": [
      "Saved as /content/drive/My Drive/Workspace/PINN/figure/SimpleNetworkSIS_2000_100_0.001_0.01_0.05_2022-03-26-21-48-26_1648331326.png\n",
      "Testing & drawing...\n",
      "s= [98.01829, 98.01829, 98.01829, 98.01829, 98.01829, 98.01829, 98.01829, 98.01829, 98.01829, 98.01829] ... [97.884766, 97.884445, 97.8841, 97.88377, 97.88343, 97.883095, 97.88275, 97.882416, 97.88207, 97.88174]\n",
      "i= [0.4699705, 0.46687302, 0.46378294, 0.46070197, 0.45762846, 0.45456436, 0.4515082, 0.4484615, 0.44542292, 0.44239435] ... [-0.0032747164, -0.0032751635, -0.0032755956, -0.0032761171, -0.0032764897, -0.0032769218, -0.0032774433, -0.0032779798, -0.0032784566, -0.0032788739]\n",
      "r= [0.4699705, 0.46687302, 0.46378294, 0.46070197, 0.45762846, 0.45456436, 0.4515082, 0.4484615, 0.44542292, 0.44239435] ... [-0.0032747164, -0.0032751635, -0.0032755956, -0.0032761171, -0.0032764897, -0.0032769218, -0.0032774433, -0.0032779798, -0.0032784566, -0.0032788739]\n",
      "x= [0.0, 0.009998679, 0.020000339, 0.029999018, 0.040000677, 0.049999356, 0.060001016, 0.069999695, 0.080001354, 0.09000003] ... [99.9, 99.909996, 99.92, 99.93, 99.94, 99.950005, 99.96, 99.97, 99.979996, 99.99]\n"
     ]
    },
    {
     "output_type": "display_data",
     "data": {
      "text/plain": [
       "<Figure size 432x288 with 1 Axes>"
      ],
      "image/png": "[encoded data removed]"
     },
     "metadata": {
      "needs_background": "light"
     }
    },
    {
     "output_type": "stream",
     "name": "stdout",
     "text": [
      "Saved as /content/drive/My Drive/Workspace/PINN/figure/SimpleNetworkSIS_2000_100_0.001_0.01_0.05_2022-03-26-21-48-26_1648331326.png\n"
     ]
    },
    {
     "output_type": "display_data",
     "data": {
      "text/plain": [
       "<Figure size 432x288 with 0 Axes>"
      ]
     },
     "metadata": {}
    }
   ],
   "source": [
    "main_path = \"/content/drive/My Drive/Workspace/PINN\"  # you may need to alter the path if it's not here\n",
    "run_sis(main_path)"
   ],
   "metadata": {
    "pycharm": {
     "name": "#%%\n"
    },
    "colab": {
     "base_uri": "https://localhost:8080/",
     "height": 1000
    },
    "id": "4mqt6FJICWm7",
    "executionInfo": {
     "status": "ok",
     "timestamp": 1648331327251,
     "user_tz": 240,
     "elapsed": 20351,
     "user": {
      "displayName": "Enze Xu",
      "photoUrl": "https://lh3.googleusercontent.com/a/default-user=s64",
      "userId": "00384414745694091798"
     }
    },
    "outputId": "8460e430-367b-44dc-e4f6-77990774c4fa"
   }
  }
 ],
 "metadata": {
  "kernelspec": {
   "display_name": "Python 3",
   "language": "python",
   "name": "python3"
  },
  "language_info": {
   "codemirror_mode": {
    "name": "ipython",
    "version": 2
   },
   "file_extension": ".py",
   "mimetype": "text/x-python",
   "name": "python",
   "nbconvert_exporter": "python",
   "pygments_lexer": "ipython2",
   "version": "2.7.6"
  },
  "colab": {
   "name": "PINN_SimpleNetworkSIS.ipynb",
   "provenance": []
  },
  "accelerator": "GPU"
 },
 "nbformat": 4,
 "nbformat_minor": 0
}